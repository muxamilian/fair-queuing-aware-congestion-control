{
 "cells": [
  {
   "cell_type": "code",
   "execution_count": 6,
   "metadata": {},
   "outputs": [
    {
     "name": "stdout",
     "output_type": "stream",
     "text": [
      "array [[[0.99129103 0.99155197 1.         0.96937907 0.98286399]\n",
      "  [1.         1.         1.         1.         1.        ]\n",
      "  [1.         1.         1.         1.         1.        ]]\n",
      "\n",
      " [[1.         1.         0.9790417  1.         1.        ]\n",
      "  [1.         1.         1.         1.         1.        ]\n",
      "  [1.         1.         1.         1.         1.        ]]\n",
      "\n",
      " [[0.91750909 1.         1.         1.         1.        ]\n",
      "  [1.         1.         1.         1.         0.97807593]\n",
      "  [1.         1.         0.         0.9756529  1.        ]]]\n",
      "delay 0 rate 0 quartiles 0.98 0.99 0.99\n",
      "delay 0 rate 1 quartiles 1.0 1.0 1.0\n",
      "delay 0 rate 2 quartiles 1.0 1.0 1.0\n",
      "delay 1 rate 0 quartiles 1.0 1.0 1.0\n",
      "delay 1 rate 1 quartiles 1.0 1.0 1.0\n",
      "delay 1 rate 2 quartiles 1.0 1.0 1.0\n",
      "delay 2 rate 0 quartiles 1.0 1.0 1.0\n",
      "delay 2 rate 1 quartiles 1.0 1.0 1.0\n",
      "delay 2 rate 2 quartiles 0.98 1.0 1.0\n",
      "accuracy 0.9730081257314145 quartiles 1.0 1.0 1.0\n"
     ]
    }
   ],
   "source": [
    "import numpy as np\n",
    "\n",
    "with open('results_pfifo_iperf.txt') as f:\n",
    "    array = np.array(eval(f.read()))[:,:,:]\n",
    "print(\"array\", array)\n",
    "\n",
    "for delay in range(len(array)):\n",
    "    for rate in range(len(array[0])):\n",
    "        print(\"delay\", delay, \"rate\", rate, \"quartiles\", round(np.quantile(array[delay][rate], 0.25), 2), \n",
    "                round(np.quantile(array[delay][rate], 0.5), 2),\n",
    "                round(np.quantile(array[delay][rate], 0.75), 2))\n",
    "print(\"accuracy\", np.mean(array.flatten()),\n",
    "     \"quartiles\", np.quantile(array.flatten(), 0.25), np.quantile(array.flatten(), 0.5), np.quantile(array.flatten(), 0.75))"
   ]
  },
  {
   "cell_type": "code",
   "execution_count": 8,
   "metadata": {},
   "outputs": [
    {
     "name": "stdout",
     "output_type": "stream",
     "text": [
      "tonopah array [[[0.99529091 0.99661279 0.99107338 0.99992126 0.99571199]\n",
      "  [0.99512929 0.99490642 0.98203647 0.99582282 0.99743268]\n",
      "  [0.96635322 0.98613484 0.99819915 0.97952153 0.99378736]]\n",
      "\n",
      " [[0.99707327 0.99390914 0.99420594 0.98786545 0.99628488]\n",
      "  [0.95108371 0.94260415 0.95739038 0.96685927 0.95489223]\n",
      "  [0.94402853 0.93397091 0.8994771  0.91621388 0.95950571]]\n",
      "\n",
      " [[0.98336876 0.98242276 0.98319123 0.98277769 0.98506371]\n",
      "  [0.97275908 0.91764764 0.91462681 0.97376595 0.97560988]\n",
      "  [0.76849493 0.9021315  0.87024685 0.87559519 0.96328535]]]\n",
      "tonopah mean 0.9625396878617284 std 0.04487423935277844\n",
      "newreno array [[[0.98944577 0.97411804 0.98106753 0.97944007 0.98076627]\n",
      "  [0.99352882 0.99091786 0.97825073 0.99148663 0.97597948]\n",
      "  [0.99264046 0.9696713  0.98863667 0.99054074 0.99546263]]\n",
      "\n",
      " [[0.9953039  0.99463348 0.99331614 0.9922491  0.99443588]\n",
      "  [0.98650935 0.98304937 0.98133113 0.9879188  0.98304447]\n",
      "  [0.9826504  0.98386878 0.97713552 0.9831561  0.98316996]]\n",
      "\n",
      " [[0.98890221 0.8925944  0.99111533 0.9890875  0.89846895]\n",
      "  [0.98616531 0.98381967 0.86335256 0.87108541 0.86487668]\n",
      "  [0.9777247  0.98354359 0.98445579 0.98482125 0.98462899]]]\n",
      "newreno mean 0.9737415047901237 std 0.034672221225464865\n",
      "newreno/tonopah 1.0116377714806544\n"
     ]
    },
    {
     "data": {
      "text/plain": [
       "Ttest_indResult(statistic=-1.3102863688125936, pvalue=0.19372520727636783)"
      ]
     },
     "execution_count": 8,
     "metadata": {},
     "output_type": "execute_result"
    }
   ],
   "source": [
    "import numpy as np\n",
    "import scipy.stats\n",
    "\n",
    "thing = 'bw'\n",
    "\n",
    "with open(thing+'_results_fq_tonopah.txt') as f:\n",
    "    array = np.array(eval(f.read()))[:,:,:]\n",
    "    if thing == 'bw':\n",
    "        array[:,:,:] /= np.array([10, 50, 100])[None,:,None]\n",
    "        array /= 90.\n",
    "print(\"tonopah array\", array)\n",
    "tonopah_flat_array = np.array(array).flatten()\n",
    "print(\"tonopah mean\", np.mean(tonopah_flat_array), \"std\", np.std(tonopah_flat_array))\n",
    "\n",
    "with open(thing+'_results_fq_bbr.txt') as f:\n",
    "    array = np.array(eval(f.read()))[:,:,:]\n",
    "    if thing == 'bw':\n",
    "        array[:,:,:] /= np.array([10, 50, 100])[None,:,None]\n",
    "        array /= 90.\n",
    "print(\"newreno array\", array)\n",
    "newreno_flat_array = np.array(array).flatten()\n",
    "print(\"newreno mean\", np.mean(newreno_flat_array), \"std\", np.std(newreno_flat_array))\n",
    "\n",
    "print('newreno/tonopah', np.mean(newreno_flat_array)/np.mean(tonopah_flat_array))\n",
    "\n",
    "scipy.stats.ttest_ind(tonopah_flat_array, newreno_flat_array, equal_var=False)"
   ]
  },
  {
   "cell_type": "code",
   "execution_count": null,
   "metadata": {},
   "outputs": [],
   "source": []
  }
 ],
 "metadata": {
  "kernelspec": {
   "display_name": "Python 3",
   "language": "python",
   "name": "python3"
  },
  "language_info": {
   "codemirror_mode": {
    "name": "ipython",
    "version": 3
   },
   "file_extension": ".py",
   "mimetype": "text/x-python",
   "name": "python",
   "nbconvert_exporter": "python",
   "pygments_lexer": "ipython3",
   "version": "3.8.10"
  }
 },
 "nbformat": 4,
 "nbformat_minor": 4
}
